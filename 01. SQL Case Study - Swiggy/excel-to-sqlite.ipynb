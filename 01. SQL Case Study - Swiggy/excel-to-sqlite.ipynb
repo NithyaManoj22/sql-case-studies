{
 "cells": [
  {
   "cell_type": "code",
   "execution_count": 1,
   "id": "b611b936-7cb9-41f4-ab07-5ce873bbf8d2",
   "metadata": {},
   "outputs": [],
   "source": [
    "import pandas as pd\n",
    "from sqlalchemy import create_engine"
   ]
  },
  {
   "cell_type": "code",
   "execution_count": 2,
   "id": "d578ebbf-2c33-4fa6-b067-3bec4e152a31",
   "metadata": {},
   "outputs": [],
   "source": [
    "# Path to the Excel file\n",
    "excel_file = 'zomato-schema.xlsx'"
   ]
  },
  {
   "cell_type": "code",
   "execution_count": 3,
   "id": "4aeca6a3-d58a-422b-be25-b17b8241473a",
   "metadata": {},
   "outputs": [],
   "source": [
    "# Path to the SQLite database file\n",
    "sqlite_file = 'swiggy.db'"
   ]
  },
  {
   "cell_type": "code",
   "execution_count": 4,
   "id": "2a1aa668-17c2-4fd9-ae92-74db9dba813d",
   "metadata": {},
   "outputs": [],
   "source": [
    "# Create a SQLite database engine\n",
    "engine = create_engine(f'sqlite:///{sqlite_file}')"
   ]
  },
  {
   "cell_type": "code",
   "execution_count": 5,
   "id": "ff5c1949-4f81-4161-8b89-94173e0e0b01",
   "metadata": {},
   "outputs": [],
   "source": [
    "# Read each sheet from the Excel file into a pandas DataFrame and write it to the SQLite database\n",
    "xl = pd.ExcelFile(excel_file)\n",
    "for sheet_name in xl.sheet_names:\n",
    "    df = pd.read_excel(xl, sheet_name=sheet_name)\n",
    "    df.to_sql(sheet_name, engine, index=False)\n",
    "\n",
    "# Optionally, you can close the SQLite engine\n",
    "engine.dispose()"
   ]
  },
  {
   "cell_type": "code",
   "execution_count": 7,
   "id": "3432054b-3dc7-4818-a14b-1bd6e02aec9f",
   "metadata": {},
   "outputs": [
    {
     "data": {
      "text/plain": [
       "['users',\n",
       " 'restaurants',\n",
       " 'food',\n",
       " 'menu',\n",
       " 'orders',\n",
       " 'delivery_partner',\n",
       " 'order_details']"
      ]
     },
     "execution_count": 7,
     "metadata": {},
     "output_type": "execute_result"
    }
   ],
   "source": [
    "xl.sheet_names"
   ]
  },
  {
   "cell_type": "code",
   "execution_count": null,
   "id": "6da454e2-c9f2-4d73-8372-05b85749549b",
   "metadata": {},
   "outputs": [],
   "source": []
  }
 ],
 "metadata": {
  "kernelspec": {
   "display_name": "Python 3 (ipykernel)",
   "language": "python",
   "name": "python3"
  },
  "language_info": {
   "codemirror_mode": {
    "name": "ipython",
    "version": 3
   },
   "file_extension": ".py",
   "mimetype": "text/x-python",
   "name": "python",
   "nbconvert_exporter": "python",
   "pygments_lexer": "ipython3",
   "version": "3.11.7"
  }
 },
 "nbformat": 4,
 "nbformat_minor": 5
}
